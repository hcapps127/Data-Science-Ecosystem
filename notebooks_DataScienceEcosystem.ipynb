{
  "metadata": {
    "language_info": {
      "codemirror_mode": {
        "name": "python",
        "version": 3
      },
      "file_extension": ".py",
      "mimetype": "text/x-python",
      "name": "python",
      "nbconvert_exporter": "python",
      "pygments_lexer": "ipython3",
      "version": "3.8"
    },
    "kernelspec": {
      "name": "python",
      "display_name": "Python (Pyodide)",
      "language": "python"
    }
  },
  "nbformat_minor": 4,
  "nbformat": 4,
  "cells": [
    {
      "cell_type": "markdown",
      "source": "Data Science Tools and Ecosystem",
      "metadata": {}
    },
    {
      "cell_type": "markdown",
      "source": "In this notebook, Data Science Tools and Ecosystem are summarized",
      "metadata": {}
    },
    {
      "cell_type": "markdown",
      "source": "Some of the popular languages that Data Scientists use are:\n1. Python\n2. Julia\n3. Scala",
      "metadata": {}
    },
    {
      "cell_type": "markdown",
      "source": "Some of the commonly used libraries used by Data Scientists include:\n1. NumPy\n2. scikit-learn\n3. PyTorch",
      "metadata": {}
    },
    {
      "cell_type": "markdown",
      "source": "Data Science Tools:\n1. Jupyter notebook\n2. Apache Spark\n3. Tableau",
      "metadata": {}
    },
    {
      "cell_type": "markdown",
      "source": "Below are a few examples of evaluating arithmetic expressions in Python:",
      "metadata": {}
    },
    {
      "cell_type": "code",
      "source": "(3*4)+5  # This a simple arithmetic expression to mutiply then add integers",
      "metadata": {
        "trusted": true
      },
      "execution_count": null,
      "outputs": [
        {
          "execution_count": 1,
          "output_type": "execute_result",
          "data": {
            "text/plain": "17"
          },
          "metadata": {}
        }
      ]
    },
    {
      "cell_type": "code",
      "source": "# This will convert 200 minutes to hours by dividing by 60.\nminutes = 200\nhours = minutes / 60\nhours",
      "metadata": {
        "trusted": true
      },
      "execution_count": 2,
      "outputs": [
        {
          "execution_count": 2,
          "output_type": "execute_result",
          "data": {
            "text/plain": "3.3333333333333335"
          },
          "metadata": {}
        }
      ]
    },
    {
      "cell_type": "markdown",
      "source": "Objectives:\nList popular languages for Data Science\nDiscuss commonly used libraries for Data Science\nExplore three Data Science tools\nUnderstand the basics of Data Science\nIntroduce key concepts and techniques in Data Science",
      "metadata": {}
    },
    {
      "cell_type": "markdown",
      "source": "Author: \n    Hunter Capps",
      "metadata": {}
    }
  ]
}